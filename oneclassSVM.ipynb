{
  "nbformat": 4,
  "nbformat_minor": 0,
  "metadata": {
    "colab": {
      "name": "oneclassSVM.ipynb",
      "private_outputs": true,
      "provenance": [],
      "collapsed_sections": [],
      "history_visible": true,
      "mount_file_id": "1mh1Ann8z_iT-zTlOQs1f2iqcfhj5jEab",
      "authorship_tag": "ABX9TyP7tp4+OsnESpeErZAMJ6WG",
      "include_colab_link": true
    },
    "kernelspec": {
      "name": "python3",
      "display_name": "Python 3"
    },
    "language_info": {
      "name": "python"
    },
    "accelerator": "GPU"
  },
  "cells": [
    {
      "cell_type": "markdown",
      "metadata": {
        "id": "view-in-github",
        "colab_type": "text"
      },
      "source": [
        "<a href=\"https://colab.research.google.com/github/JHyunjun/SCKL_OCSVM/blob/main/oneclassSVM.ipynb\" target=\"_parent\"><img src=\"https://colab.research.google.com/assets/colab-badge.svg\" alt=\"Open In Colab\"/></a>"
      ]
    },
    {
      "cell_type": "code",
      "metadata": {
        "id": "nHN4df6Yv6LH"
      },
      "source": [
        "import numpy as np\n",
        "import matplotlib.pyplot as plt\n",
        "import matplotlib.font_manager\n",
        "from sklearn import svm\n",
        "import pandas as pd\n",
        "\n",
        "X_train = pd.read_csv('/dir')\n",
        "X_test = pd.read_csv('/dir')\n",
        "X_test2 = pd.read_csv('/dir')\n",
        "\n",
        "#Generate some abnormal novel observations\n",
        "print(\"X_train_shape : \",X_train.shape)\n",
        "print(\"X_test_Normal : \",X_test.shape)\n",
        "print(\"X_test_Abnormal : \",X_test2.shape)\n",
        "\n",
        "#Normalization\n",
        "def MinMaxScaler(data):\n",
        "  denom = np.max(data,0) - np.min(data,0)\n",
        "  nume = data-np.min(data,0)\n",
        "  return nume/denom\n",
        "\n",
        "#Fit the model\n",
        "clf = svm.OneClassSVM(nu = 0.0001, kernel = \"rbf\", gamma = 0.00001)\n",
        "clf.fit(X_train)\n",
        "\n",
        "y_pred_train = clf.predict(X_train)\n",
        "y_pred_test = clf.predict(X_test)\n",
        "y_pred_test2 = clf.predict(X_test2)\n",
        "\n",
        "n_error_train = y_pred_train[y_pred_train == -1].size\n",
        "n_error_test = y_pred_test[y_pred_test == -1].size\n",
        "n_error_test2 = y_pred_test2[y_pred_test2 == -1].size\n",
        "\n",
        "print(\"Train Data _ Normal : \", n_error_train)\n",
        "print(\"Normal : \", n_error_test)\n",
        "print(\"Abnormal : \", n_error_test2)\n",
        "\n"
      ],
      "execution_count": null,
      "outputs": []
    },
    {
      "cell_type": "code",
      "source": [
        "#Proportion Check\n",
        "len_X_train = len(X_train)\n",
        "len_X_test = len(X_test)\n",
        "len_X_test2 = len(X_test2)\n",
        "\n",
        "print(\"Probability of Normal Condition\")\n",
        "print(\"Train Data : \", ((len_X_train-n_error_train)/len_X_train) , \"%\")\n",
        "print(\"Test Data 1 : \",((len_X_test-n_error_test)/len_X_test),\"%\")\n",
        "print(\"Test Data 2 : \",((len_X_test2-n_error_test2)/len_X_test2),\"%\")"
      ],
      "metadata": {
        "id": "RoZw_z6aTAcy"
      },
      "execution_count": null,
      "outputs": []
    }
  ]
}